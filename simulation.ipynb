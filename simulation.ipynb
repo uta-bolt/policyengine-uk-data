{
 "cells": [
  {
   "cell_type": "code",
   "execution_count": null,
   "metadata": {},
   "outputs": [],
   "source": [
    "# python -m venv policyengine_venv\n",
    "# source policyengine_venv/bin/activate\n",
    "# make sure to select kernel to be in the above environment\n",
    "# Install ipykernel if not already installed\n",
    "!pip install ipykernel\n",
    "\n",
    "# Register the environment as a kernel\n",
    "!python -m ipykernel install --user --name=policyengine_venv --display-name=\"Python (PolicyEngine)\"\n",
    "# import sys\n",
    "# print(sys.executable)  # Should show a path inside your policyengine_venv directory"
   ]
  },
  {
   "cell_type": "code",
   "execution_count": null,
   "metadata": {},
   "outputs": [
    {
     "name": "stdout",
     "output_type": "stream",
     "text": [
      "Requirement already satisfied: policyengine-uk in /Users/helenauta.bolt/Documents/GitHub/policyengine-uk/policyengine_venv/lib/python3.10/site-packages (2.24.2)\n",
      "Requirement already satisfied: PolicyEngine-Core>=3.6.4 in /Users/helenauta.bolt/Documents/GitHub/policyengine-uk/policyengine_venv/lib/python3.10/site-packages (from policyengine-uk) (3.16.6)\n",
      "Requirement already satisfied: microdf_python in /Users/helenauta.bolt/Documents/GitHub/policyengine-uk/policyengine_venv/lib/python3.10/site-packages (from policyengine-uk) (0.4.3)\n",
      "Requirement already satisfied: pytest<9,>=8 in /Users/helenauta.bolt/Documents/GitHub/policyengine-uk/policyengine_venv/lib/python3.10/site-packages (from PolicyEngine-Core>=3.6.4->policyengine-uk) (8.3.5)\n",
      "Requirement already satisfied: numpy~=1.26.4 in /Users/helenauta.bolt/Documents/GitHub/policyengine-uk/policyengine_venv/lib/python3.10/site-packages (from PolicyEngine-Core>=3.6.4->policyengine-uk) (1.26.4)\n",
      "Requirement already satisfied: sortedcontainers<3 in /Users/helenauta.bolt/Documents/GitHub/policyengine-uk/policyengine_venv/lib/python3.10/site-packages (from PolicyEngine-Core>=3.6.4->policyengine-uk) (2.4.0)\n",
      "Requirement already satisfied: numexpr<3 in /Users/helenauta.bolt/Documents/GitHub/policyengine-uk/policyengine_venv/lib/python3.10/site-packages (from PolicyEngine-Core>=3.6.4->policyengine-uk) (2.10.2)\n",
      "Requirement already satisfied: dpath<3 in /Users/helenauta.bolt/Documents/GitHub/policyengine-uk/policyengine_venv/lib/python3.10/site-packages (from PolicyEngine-Core>=3.6.4->policyengine-uk) (2.2.0)\n",
      "Requirement already satisfied: psutil<7,>=6 in /Users/helenauta.bolt/Documents/GitHub/policyengine-uk/policyengine_venv/lib/python3.10/site-packages (from PolicyEngine-Core>=3.6.4->policyengine-uk) (6.1.1)\n",
      "Requirement already satisfied: wheel<1 in /Users/helenauta.bolt/Documents/GitHub/policyengine-uk/policyengine_venv/lib/python3.10/site-packages (from PolicyEngine-Core>=3.6.4->policyengine-uk) (0.45.1)\n",
      "Requirement already satisfied: h5py<4,>=3 in /Users/helenauta.bolt/Documents/GitHub/policyengine-uk/policyengine_venv/lib/python3.10/site-packages (from PolicyEngine-Core>=3.6.4->policyengine-uk) (3.13.0)\n",
      "Requirement already satisfied: requests<3,>=2 in /Users/helenauta.bolt/Documents/GitHub/policyengine-uk/policyengine_venv/lib/python3.10/site-packages (from PolicyEngine-Core>=3.6.4->policyengine-uk) (2.32.3)\n",
      "Requirement already satisfied: pandas>=1 in /Users/helenauta.bolt/Documents/GitHub/policyengine-uk/policyengine_venv/lib/python3.10/site-packages (from PolicyEngine-Core>=3.6.4->policyengine-uk) (2.2.3)\n",
      "Requirement already satisfied: plotly<6,>=5 in /Users/helenauta.bolt/Documents/GitHub/policyengine-uk/policyengine_venv/lib/python3.10/site-packages (from PolicyEngine-Core>=3.6.4->policyengine-uk) (5.24.1)\n",
      "Requirement already satisfied: ipython<9,>=8 in /Users/helenauta.bolt/Documents/GitHub/policyengine-uk/policyengine_venv/lib/python3.10/site-packages (from PolicyEngine-Core>=3.6.4->policyengine-uk) (8.36.0)\n",
      "Requirement already satisfied: pyvis>=0.3.2 in /Users/helenauta.bolt/Documents/GitHub/policyengine-uk/policyengine_venv/lib/python3.10/site-packages (from PolicyEngine-Core>=3.6.4->policyengine-uk) (0.3.2)\n",
      "Requirement already satisfied: huggingface_hub>=0.25.1 in /Users/helenauta.bolt/Documents/GitHub/policyengine-uk/policyengine_venv/lib/python3.10/site-packages (from PolicyEngine-Core>=3.6.4->policyengine-uk) (0.31.1)\n",
      "Requirement already satisfied: decorator in /Users/helenauta.bolt/Documents/GitHub/policyengine-uk/policyengine_venv/lib/python3.10/site-packages (from ipython<9,>=8->PolicyEngine-Core>=3.6.4->policyengine-uk) (5.2.1)\n",
      "Requirement already satisfied: exceptiongroup in /Users/helenauta.bolt/Documents/GitHub/policyengine-uk/policyengine_venv/lib/python3.10/site-packages (from ipython<9,>=8->PolicyEngine-Core>=3.6.4->policyengine-uk) (1.2.2)\n",
      "Requirement already satisfied: jedi>=0.16 in /Users/helenauta.bolt/Documents/GitHub/policyengine-uk/policyengine_venv/lib/python3.10/site-packages (from ipython<9,>=8->PolicyEngine-Core>=3.6.4->policyengine-uk) (0.19.2)\n",
      "Requirement already satisfied: matplotlib-inline in /Users/helenauta.bolt/Documents/GitHub/policyengine-uk/policyengine_venv/lib/python3.10/site-packages (from ipython<9,>=8->PolicyEngine-Core>=3.6.4->policyengine-uk) (0.1.7)\n",
      "Requirement already satisfied: pexpect>4.3 in /Users/helenauta.bolt/Documents/GitHub/policyengine-uk/policyengine_venv/lib/python3.10/site-packages (from ipython<9,>=8->PolicyEngine-Core>=3.6.4->policyengine-uk) (4.9.0)\n",
      "Requirement already satisfied: prompt_toolkit<3.1.0,>=3.0.41 in /Users/helenauta.bolt/Documents/GitHub/policyengine-uk/policyengine_venv/lib/python3.10/site-packages (from ipython<9,>=8->PolicyEngine-Core>=3.6.4->policyengine-uk) (3.0.51)\n",
      "Requirement already satisfied: pygments>=2.4.0 in /Users/helenauta.bolt/Documents/GitHub/policyengine-uk/policyengine_venv/lib/python3.10/site-packages (from ipython<9,>=8->PolicyEngine-Core>=3.6.4->policyengine-uk) (2.19.1)\n",
      "Requirement already satisfied: stack_data in /Users/helenauta.bolt/Documents/GitHub/policyengine-uk/policyengine_venv/lib/python3.10/site-packages (from ipython<9,>=8->PolicyEngine-Core>=3.6.4->policyengine-uk) (0.6.3)\n",
      "Requirement already satisfied: traitlets>=5.13.0 in /Users/helenauta.bolt/Documents/GitHub/policyengine-uk/policyengine_venv/lib/python3.10/site-packages (from ipython<9,>=8->PolicyEngine-Core>=3.6.4->policyengine-uk) (5.14.3)\n",
      "Requirement already satisfied: typing_extensions>=4.6 in /Users/helenauta.bolt/Documents/GitHub/policyengine-uk/policyengine_venv/lib/python3.10/site-packages (from ipython<9,>=8->PolicyEngine-Core>=3.6.4->policyengine-uk) (4.13.2)\n",
      "Requirement already satisfied: tenacity>=6.2.0 in /Users/helenauta.bolt/Documents/GitHub/policyengine-uk/policyengine_venv/lib/python3.10/site-packages (from plotly<6,>=5->PolicyEngine-Core>=3.6.4->policyengine-uk) (9.1.2)\n",
      "Requirement already satisfied: packaging in /Users/helenauta.bolt/Documents/GitHub/policyengine-uk/policyengine_venv/lib/python3.10/site-packages (from plotly<6,>=5->PolicyEngine-Core>=3.6.4->policyengine-uk) (25.0)\n",
      "Requirement already satisfied: wcwidth in /Users/helenauta.bolt/Documents/GitHub/policyengine-uk/policyengine_venv/lib/python3.10/site-packages (from prompt_toolkit<3.1.0,>=3.0.41->ipython<9,>=8->PolicyEngine-Core>=3.6.4->policyengine-uk) (0.2.13)\n",
      "Requirement already satisfied: iniconfig in /Users/helenauta.bolt/Documents/GitHub/policyengine-uk/policyengine_venv/lib/python3.10/site-packages (from pytest<9,>=8->PolicyEngine-Core>=3.6.4->policyengine-uk) (2.1.0)\n",
      "Requirement already satisfied: pluggy<2,>=1.5 in /Users/helenauta.bolt/Documents/GitHub/policyengine-uk/policyengine_venv/lib/python3.10/site-packages (from pytest<9,>=8->PolicyEngine-Core>=3.6.4->policyengine-uk) (1.5.0)\n",
      "Requirement already satisfied: tomli>=1 in /Users/helenauta.bolt/Documents/GitHub/policyengine-uk/policyengine_venv/lib/python3.10/site-packages (from pytest<9,>=8->PolicyEngine-Core>=3.6.4->policyengine-uk) (2.2.1)\n",
      "Requirement already satisfied: charset-normalizer<4,>=2 in /Users/helenauta.bolt/Documents/GitHub/policyengine-uk/policyengine_venv/lib/python3.10/site-packages (from requests<3,>=2->PolicyEngine-Core>=3.6.4->policyengine-uk) (3.4.2)\n",
      "Requirement already satisfied: idna<4,>=2.5 in /Users/helenauta.bolt/Documents/GitHub/policyengine-uk/policyengine_venv/lib/python3.10/site-packages (from requests<3,>=2->PolicyEngine-Core>=3.6.4->policyengine-uk) (3.10)\n",
      "Requirement already satisfied: urllib3<3,>=1.21.1 in /Users/helenauta.bolt/Documents/GitHub/policyengine-uk/policyengine_venv/lib/python3.10/site-packages (from requests<3,>=2->PolicyEngine-Core>=3.6.4->policyengine-uk) (2.4.0)\n",
      "Requirement already satisfied: certifi>=2017.4.17 in /Users/helenauta.bolt/Documents/GitHub/policyengine-uk/policyengine_venv/lib/python3.10/site-packages (from requests<3,>=2->PolicyEngine-Core>=3.6.4->policyengine-uk) (2025.4.26)\n",
      "Requirement already satisfied: filelock in /Users/helenauta.bolt/Documents/GitHub/policyengine-uk/policyengine_venv/lib/python3.10/site-packages (from huggingface_hub>=0.25.1->PolicyEngine-Core>=3.6.4->policyengine-uk) (3.18.0)\n",
      "Requirement already satisfied: fsspec>=2023.5.0 in /Users/helenauta.bolt/Documents/GitHub/policyengine-uk/policyengine_venv/lib/python3.10/site-packages (from huggingface_hub>=0.25.1->PolicyEngine-Core>=3.6.4->policyengine-uk) (2025.3.2)\n",
      "Requirement already satisfied: pyyaml>=5.1 in /Users/helenauta.bolt/Documents/GitHub/policyengine-uk/policyengine_venv/lib/python3.10/site-packages (from huggingface_hub>=0.25.1->PolicyEngine-Core>=3.6.4->policyengine-uk) (6.0.2)\n",
      "Requirement already satisfied: tqdm>=4.42.1 in /Users/helenauta.bolt/Documents/GitHub/policyengine-uk/policyengine_venv/lib/python3.10/site-packages (from huggingface_hub>=0.25.1->PolicyEngine-Core>=3.6.4->policyengine-uk) (4.67.1)\n",
      "Requirement already satisfied: hf-xet<2.0.0,>=1.1.0 in /Users/helenauta.bolt/Documents/GitHub/policyengine-uk/policyengine_venv/lib/python3.10/site-packages (from huggingface_hub>=0.25.1->PolicyEngine-Core>=3.6.4->policyengine-uk) (1.1.0)\n",
      "Requirement already satisfied: parso<0.9.0,>=0.8.4 in /Users/helenauta.bolt/Documents/GitHub/policyengine-uk/policyengine_venv/lib/python3.10/site-packages (from jedi>=0.16->ipython<9,>=8->PolicyEngine-Core>=3.6.4->policyengine-uk) (0.8.4)\n",
      "Requirement already satisfied: python-dateutil>=2.8.2 in /Users/helenauta.bolt/Documents/GitHub/policyengine-uk/policyengine_venv/lib/python3.10/site-packages (from pandas>=1->PolicyEngine-Core>=3.6.4->policyengine-uk) (2.9.0.post0)\n",
      "Requirement already satisfied: pytz>=2020.1 in /Users/helenauta.bolt/Documents/GitHub/policyengine-uk/policyengine_venv/lib/python3.10/site-packages (from pandas>=1->PolicyEngine-Core>=3.6.4->policyengine-uk) (2025.2)\n",
      "Requirement already satisfied: tzdata>=2022.7 in /Users/helenauta.bolt/Documents/GitHub/policyengine-uk/policyengine_venv/lib/python3.10/site-packages (from pandas>=1->PolicyEngine-Core>=3.6.4->policyengine-uk) (2025.2)\n",
      "Requirement already satisfied: ptyprocess>=0.5 in /Users/helenauta.bolt/Documents/GitHub/policyengine-uk/policyengine_venv/lib/python3.10/site-packages (from pexpect>4.3->ipython<9,>=8->PolicyEngine-Core>=3.6.4->policyengine-uk) (0.7.0)\n",
      "Requirement already satisfied: six>=1.5 in /Users/helenauta.bolt/Documents/GitHub/policyengine-uk/policyengine_venv/lib/python3.10/site-packages (from python-dateutil>=2.8.2->pandas>=1->PolicyEngine-Core>=3.6.4->policyengine-uk) (1.17.0)\n",
      "Requirement already satisfied: jinja2>=2.9.6 in /Users/helenauta.bolt/Documents/GitHub/policyengine-uk/policyengine_venv/lib/python3.10/site-packages (from pyvis>=0.3.2->PolicyEngine-Core>=3.6.4->policyengine-uk) (3.1.6)\n",
      "Requirement already satisfied: jsonpickle>=1.4.1 in /Users/helenauta.bolt/Documents/GitHub/policyengine-uk/policyengine_venv/lib/python3.10/site-packages (from pyvis>=0.3.2->PolicyEngine-Core>=3.6.4->policyengine-uk) (4.0.5)\n",
      "Requirement already satisfied: networkx>=1.11 in /Users/helenauta.bolt/Documents/GitHub/policyengine-uk/policyengine_venv/lib/python3.10/site-packages (from pyvis>=0.3.2->PolicyEngine-Core>=3.6.4->policyengine-uk) (3.4.2)\n",
      "Requirement already satisfied: MarkupSafe>=2.0 in /Users/helenauta.bolt/Documents/GitHub/policyengine-uk/policyengine_venv/lib/python3.10/site-packages (from jinja2>=2.9.6->pyvis>=0.3.2->PolicyEngine-Core>=3.6.4->policyengine-uk) (3.0.2)\n",
      "Requirement already satisfied: executing>=1.2.0 in /Users/helenauta.bolt/Documents/GitHub/policyengine-uk/policyengine_venv/lib/python3.10/site-packages (from stack_data->ipython<9,>=8->PolicyEngine-Core>=3.6.4->policyengine-uk) (2.2.0)\n",
      "Requirement already satisfied: asttokens>=2.1.0 in /Users/helenauta.bolt/Documents/GitHub/policyengine-uk/policyengine_venv/lib/python3.10/site-packages (from stack_data->ipython<9,>=8->PolicyEngine-Core>=3.6.4->policyengine-uk) (3.0.0)\n",
      "Requirement already satisfied: pure-eval in /Users/helenauta.bolt/Documents/GitHub/policyengine-uk/policyengine_venv/lib/python3.10/site-packages (from stack_data->ipython<9,>=8->PolicyEngine-Core>=3.6.4->policyengine-uk) (0.2.3)\n"
     ]
    }
   ],
   "source": [
    "#Create environment variable for huggingface token\n",
    "#Install policy engine\n",
    "#need to download FRS 2020-2023, LCFS, ETB in TAB format. Save in folder called storage (note this already exists)\n",
    "!make install\n",
    "!make download"
   ]
  },
  {
   "cell_type": "code",
   "execution_count": null,
   "metadata": {},
   "outputs": [],
   "source": [
    "!pip install torch\n",
    "!python -m policyengine_uk_data.datasets.frs.frs"
   ]
  },
  {
   "cell_type": "code",
   "execution_count": 2,
   "metadata": {},
   "outputs": [
    {
     "name": "stdout",
     "output_type": "stream",
     "text": [
      "Collecting tables\n",
      "  Downloading tables-3.10.1-cp310-cp310-macosx_11_0_arm64.whl.metadata (2.2 kB)\n",
      "Requirement already satisfied: numpy>=1.20.0 in /Users/helenauta.bolt/Documents/GitHub/policyengine-uk/policyengine_venv/lib/python3.10/site-packages (from tables) (1.26.4)\n",
      "Requirement already satisfied: numexpr>=2.6.2 in /Users/helenauta.bolt/Documents/GitHub/policyengine-uk/policyengine_venv/lib/python3.10/site-packages (from tables) (2.10.2)\n",
      "Requirement already satisfied: packaging in /Users/helenauta.bolt/Documents/GitHub/policyengine-uk/policyengine_venv/lib/python3.10/site-packages (from tables) (25.0)\n",
      "Collecting py-cpuinfo (from tables)\n",
      "  Downloading py_cpuinfo-9.0.0-py3-none-any.whl.metadata (794 bytes)\n",
      "Collecting blosc2>=2.3.0 (from tables)\n",
      "  Downloading blosc2-3.3.2-cp310-cp310-macosx_11_0_arm64.whl.metadata (6.9 kB)\n",
      "Requirement already satisfied: typing-extensions>=4.4.0 in /Users/helenauta.bolt/Documents/GitHub/policyengine-uk/policyengine_venv/lib/python3.10/site-packages (from tables) (4.13.2)\n",
      "Collecting ndindex (from blosc2>=2.3.0->tables)\n",
      "  Downloading ndindex-1.9.2-cp310-cp310-macosx_11_0_arm64.whl.metadata (3.4 kB)\n",
      "Collecting msgpack (from blosc2>=2.3.0->tables)\n",
      "  Downloading msgpack-1.1.0-cp310-cp310-macosx_11_0_arm64.whl.metadata (8.4 kB)\n",
      "Requirement already satisfied: platformdirs in /Users/helenauta.bolt/Documents/GitHub/policyengine-uk/policyengine_venv/lib/python3.10/site-packages (from blosc2>=2.3.0->tables) (4.3.8)\n",
      "Requirement already satisfied: requests in /Users/helenauta.bolt/Documents/GitHub/policyengine-uk/policyengine_venv/lib/python3.10/site-packages (from blosc2>=2.3.0->tables) (2.32.3)\n",
      "Requirement already satisfied: charset-normalizer<4,>=2 in /Users/helenauta.bolt/Documents/GitHub/policyengine-uk/policyengine_venv/lib/python3.10/site-packages (from requests->blosc2>=2.3.0->tables) (3.4.2)\n",
      "Requirement already satisfied: idna<4,>=2.5 in /Users/helenauta.bolt/Documents/GitHub/policyengine-uk/policyengine_venv/lib/python3.10/site-packages (from requests->blosc2>=2.3.0->tables) (3.10)\n",
      "Requirement already satisfied: urllib3<3,>=1.21.1 in /Users/helenauta.bolt/Documents/GitHub/policyengine-uk/policyengine_venv/lib/python3.10/site-packages (from requests->blosc2>=2.3.0->tables) (2.4.0)\n",
      "Requirement already satisfied: certifi>=2017.4.17 in /Users/helenauta.bolt/Documents/GitHub/policyengine-uk/policyengine_venv/lib/python3.10/site-packages (from requests->blosc2>=2.3.0->tables) (2025.4.26)\n",
      "Downloading tables-3.10.1-cp310-cp310-macosx_11_0_arm64.whl (5.5 MB)\n",
      "\u001b[2K   \u001b[90m━━━━━━━━━━━━━━━━━━━━━━━━━━━━━━━━━━━━━━━━\u001b[0m \u001b[32m5.5/5.5 MB\u001b[0m \u001b[31m8.6 MB/s\u001b[0m eta \u001b[36m0:00:00\u001b[0ma \u001b[36m0:00:01\u001b[0m\n",
      "\u001b[?25hDownloading blosc2-3.3.2-cp310-cp310-macosx_11_0_arm64.whl (3.4 MB)\n",
      "\u001b[2K   \u001b[90m━━━━━━━━━━━━━━━━━━━━━━━━━━━━━━━━━━━━━━━━\u001b[0m \u001b[32m3.4/3.4 MB\u001b[0m \u001b[31m12.4 MB/s\u001b[0m eta \u001b[36m0:00:00\u001b[0ma \u001b[36m0:00:01\u001b[0m\n",
      "\u001b[?25hDownloading msgpack-1.1.0-cp310-cp310-macosx_11_0_arm64.whl (81 kB)\n",
      "Downloading ndindex-1.9.2-cp310-cp310-macosx_11_0_arm64.whl (162 kB)\n",
      "Downloading py_cpuinfo-9.0.0-py3-none-any.whl (22 kB)\n",
      "Installing collected packages: py-cpuinfo, ndindex, msgpack, blosc2, tables\n",
      "\u001b[2K   \u001b[90m━━━━━━━━━━━━━━━━━━━━━━━━━━━━━━━━━━━━━━━━\u001b[0m \u001b[32m5/5\u001b[0m [tables]2m4/5\u001b[0m [tables]]\n",
      "\u001b[1A\u001b[2KSuccessfully installed blosc2-3.3.2 msgpack-1.1.0 ndindex-1.9.2 py-cpuinfo-9.0.0 tables-3.10.1\n"
     ]
    }
   ],
   "source": [
    "!pip install tables"
   ]
  },
  {
   "cell_type": "code",
   "execution_count": null,
   "metadata": {},
   "outputs": [],
   "source": [
    "# The `Simulation` class is the most important class in PolicyEngine- it runs the actual simulation.\n",
    "import sys\n",
    "print(f\"Current Python: {sys.executable}\")\n",
    "import policyengine_uk\n",
    "print(f\"PolicyEngine UK version: {policyengine_uk.__file__}\")\n",
    "from policyengine_uk import Simulation\n",
    "\n",
    "situation = {\n",
    "    \"people\": {\n",
    "        \"person\": {\n",
    "            \"age\": {2025: 30},\n",
    "            \"employment_income\": {2025: 40_000},\n",
    "        },\n",
    "    },\n",
    "    \"benunits\": {\n",
    "        \"benunit\": {\n",
    "            \"members\": [\"person\"],\n",
    "        },\n",
    "    },\n",
    "    \"households\": {\n",
    "        \"household\": {\n",
    "            \"members\": [\"person\"],\n",
    "        }\n",
    "    },\n",
    "}\n",
    "\n",
    "simulation = Simulation(situation=situation)\n",
    "\n",
    "simulation.calculate(\"income_tax\", 2025)"
   ]
  },
  {
   "cell_type": "code",
   "execution_count": null,
   "metadata": {},
   "outputs": [],
   "source": [
    "from policyengine_core.model_api import *\n",
    "\n",
    "\n",
    "increase_basic_rate = {\"gov.hmrc.income_tax.rates.uk[0].rate\": 0.25}\n",
    "\n",
    "\n",
    "baseline = Simulation(situation=situation)\n",
    "reformed = Simulation(situation=situation, reform=increase_basic_rate)\n",
    "\n",
    "baseline_income_tax = baseline.calculate(\"income_tax\", 2025)[0]\n",
    "reformed_income_tax = reformed.calculate(\"income_tax\", 2025)[0]\n",
    "print(f\"Pre reform, this individual payed an income tax of:{baseline_income_tax}\")\n",
    "print(\n",
    "    f\"Raising the basic rate to 25% would increase this person's income tax by £{reformed_income_tax - baseline_income_tax:.2f}\"\n",
    ")"
   ]
  },
  {
   "cell_type": "code",
   "execution_count": null,
   "metadata": {},
   "outputs": [],
   "source": [
    "from policyengine_uk import Microsimulation\n",
    "\n",
    "sim = Microsimulation(dataset=\"hf://policyengine/policyengine-uk-data/enhanced_frs_2022_23.h5\")\n",
    "\n",
    "# The hf:// points to the private data-\n",
    "# hf:// <- go get the data from huggingface\n",
    "# policyengine/policyengine-uk-data <- the repo\n",
    "# enhanced_frs_2022_23.h5 <- the file in the repo\n",
    "\n",
    "sim.calculate(\"universal_credit\", 2025).sum() / 1e9"
   ]
  },
  {
   "cell_type": "markdown",
   "metadata": {},
   "source": []
  }
 ],
 "metadata": {
  "kernelspec": {
   "display_name": "Python (PolicyEngine)",
   "language": "python",
   "name": "policyengine_venv"
  },
  "language_info": {
   "codemirror_mode": {
    "name": "ipython",
    "version": 3
   },
   "file_extension": ".py",
   "mimetype": "text/x-python",
   "name": "python",
   "nbconvert_exporter": "python",
   "pygments_lexer": "ipython3",
   "version": "3.10.6"
  }
 },
 "nbformat": 4,
 "nbformat_minor": 2
}
